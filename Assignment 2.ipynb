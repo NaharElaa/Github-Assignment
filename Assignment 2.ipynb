{
 "cells": [
  {
   "cell_type": "code",
   "execution_count": null,
   "id": "feba9ad8",
   "metadata": {},
   "outputs": [],
   "source": [
    "# 1. Write a program that swaps the values of two variables.\n",
    "\n",
    "x = input('enter the value of x: ')\n",
    "y = input('enter the value of y: ')\n",
    "\n",
    "temp = x\n",
    "x = y\n",
    "y = temp\n",
    "\n",
    "print('The value of x after swapping: {}'.format(x))\n",
    "print('The value of y after swapping: {}'.format(y))\n",
    "\n"
   ]
  },
  {
   "cell_type": "code",
   "execution_count": null,
   "id": "82db1140",
   "metadata": {},
   "outputs": [],
   "source": [
    "# 2. Write a program that calculates the area of a rectangle given its length and width.\n",
    "\n",
    "length = int(input())\n",
    "width = int(input())\n",
    "\n",
    "area = length*width\n",
    "\n",
    "print('The area of a rectangle: ',area)\n",
    "\n"
   ]
  },
  {
   "cell_type": "code",
   "execution_count": null,
   "id": "e5a7df02",
   "metadata": {},
   "outputs": [],
   "source": [
    "# 3. Write a program that converts temperature from Fahrenheit to Celsius.\n",
    "\n",
    "temperature = float(input('Enter a temperature in Farenheit: '))\n",
    "\n",
    "Celsius  = (temperature - 32) * 5/9\n",
    "\n",
    "print('Celsius: ',Celsius)"
   ]
  },
  {
   "cell_type": "code",
   "execution_count": null,
   "id": "83c802f8",
   "metadata": {},
   "outputs": [],
   "source": [
    "# 4. Write a program that calculates the volume of a sphere given its radius.\n",
    "\n",
    "r = float(input('Enter radius of a sphere: '))\n",
    "pi = 3.1416\n",
    "\n",
    "V = 4/3 * pi * (r ** 3)\n",
    "\n",
    "print('Volume of the radius: ',V)"
   ]
  },
  {
   "cell_type": "code",
   "execution_count": null,
   "id": "fd211e1d",
   "metadata": {},
   "outputs": [],
   "source": [
    "# 5. Write a program that finds the average of three numbers.\n",
    "\n",
    "x = int(input())\n",
    "y = int(input())\n",
    "z = int(input())\n",
    "\n",
    "average = (x+y+z)/3\n",
    "\n",
    "print('average : ', average)\n"
   ]
  },
  {
   "cell_type": "code",
   "execution_count": null,
   "id": "ccddbdb9",
   "metadata": {},
   "outputs": [],
   "source": [
    "# 6. Write a program that determines if a number is even or odd.\n",
    "\n",
    "num = int(input('Enter a number: '))\n",
    "\n",
    "if(num%2 == 0):\n",
    "    print('num is even',num)\n",
    "    \n",
    "else:\n",
    "    print('num is odd')"
   ]
  },
  {
   "cell_type": "code",
   "execution_count": null,
   "id": "46e16793",
   "metadata": {},
   "outputs": [],
   "source": [
    "# 7. Write a program that finds the maximum of three numbers.\n",
    "\n",
    "a = int(input())\n",
    "b = int(input())\n",
    "c = int(input())\n",
    "\n",
    "if a>b and a>c:\n",
    "    print(a,'is greatest number ')\n",
    "    \n",
    "elif b>a and b>c:\n",
    "    print(b,'is greatest number ')\n",
    "    \n",
    "elif c>a and c>b:\n",
    "    print(c,'is greatest number')    \n",
    "    "
   ]
  },
  {
   "cell_type": "code",
   "execution_count": null,
   "id": "b02ac638",
   "metadata": {},
   "outputs": [],
   "source": [
    "# 8. Write a program that determines if a year is a leap year or not.\n",
    "\n",
    "year = int(input(\"Enter a year: \"))\n",
    "\n",
    "if(year % 400 == 0) and (year % 100 == 0):\n",
    "    print(year,'is a leap year')\n",
    "elif (year % 4 ==0) and (year % 100 != 0):\n",
    "    print(year,'is a leap year')\n",
    "else:\n",
    "    print(year,' is not a leap year')"
   ]
  },
  {
   "cell_type": "code",
   "execution_count": null,
   "id": "51d8973c",
   "metadata": {},
   "outputs": [],
   "source": [
    "# 9. Write a program that determines if a number is positive, negative, or zero.\n",
    "\n",
    "num = float(input('Enter a number: '))\n",
    "\n",
    "if num == 0:\n",
    "    print(num,'is Zero')\n",
    "elif num>=0:\n",
    "    print(num,' is a positive number')\n",
    "else:\n",
    "    print(num,'is a negative number')"
   ]
  },
  {
   "cell_type": "code",
   "execution_count": null,
   "id": "688162fc",
   "metadata": {},
   "outputs": [],
   "source": [
    "# 10. Write a program that calculates the grade based on a given percentage.\n",
    "\n",
    "Grade = int(input('Enter any number: '))\n",
    "\n",
    "if Grade >= 90:\n",
    "        print(Grade, 'Student got A+')\n",
    "        \n",
    "elif Grade>= 80 and Grade<= 89 :\n",
    "        print(Grade, 'Student got A')\n",
    "    \n",
    "elif Grade>= 60 and Grade<= 79 :\n",
    "        print(Grade, 'Student got B')   \n",
    "\n",
    "elif Grade>= 50 and Grade<= 59 :\n",
    "        print(Grade, 'Student got C')\n",
    "            \n",
    "elif Grade>= 45 and Grade<= 49  :\n",
    "        print(Grade, 'Student got D') \n",
    "    \n",
    "elif Grade>= 25 and Grade<= 44 :\n",
    "        print(Grade, 'Student got E')   \n",
    "    \n",
    "else:\n",
    "      print(Grade, 'Student got F')"
   ]
  },
  {
   "cell_type": "code",
   "execution_count": null,
   "id": "9fe27ddd",
   "metadata": {},
   "outputs": [],
   "source": [
    "# 11. Write a program that prints the first `n` natural numbers.\n",
    "\n",
    "num = int(input(\"Enter any number : \"))\n",
    "\n",
    "\n",
    "print(\"\\nNatural numbers from 1 to\", num)\n",
    "\n",
    "for i in range(1, num + 1):\n",
    "    print(i)\n",
    "\n"
   ]
  },
  {
   "cell_type": "code",
   "execution_count": null,
   "id": "93ace5c6",
   "metadata": {},
   "outputs": [],
   "source": [
    "# 12. Write a program that calculates the factorial of a number.\n",
    "\n",
    "\n",
    "n = int(input(\"Enter any number: \"))\n",
    "\n",
    "f = 1\n",
    "\n",
    "for i in range(n, 0, -1):\n",
    "    f *= i\n",
    "\n",
    "print(\"\\nFactorial of the given number is\", f)"
   ]
  },
  {
   "cell_type": "code",
   "execution_count": null,
   "id": "1ca06e23",
   "metadata": {},
   "outputs": [],
   "source": [
    "# 13. Write a program that generates a Fibonacci sequence of length `n`.\n",
    "\n",
    "first = 0\n",
    "second = 1\n",
    "print(first)\n",
    "print(second)\n",
    "\n",
    "n = int(input('Enter length of n: '))\n",
    "\n",
    "if n == 1:\n",
    "    print(first)\n",
    "    \n",
    "else:    \n",
    "\n",
    "    for x in range(2,n):\n",
    "        \n",
    "        third = first + second\n",
    "        first = second\n",
    "        second = third\n",
    "        print(third)"
   ]
  },
  {
   "cell_type": "code",
   "execution_count": null,
   "id": "4d92eba1",
   "metadata": {},
   "outputs": [],
   "source": [
    "# 14. Write a program that checks if a given number is prime or not.\n",
    "\n",
    "num = int(input('Enter a number: '))\n",
    "\n",
    "if num == 1:\n",
    "    print('It is not a prime number')\n",
    "    \n",
    "elif num > 1:\n",
    "    for i in range(2,num):\n",
    "        if num % 2 == 0:\n",
    "            print(num,' is not a prime number')\n",
    "            break\n",
    "            \n",
    "        else:\n",
    "            print(num,' is a prime number')\n",
    "            break\n",
    "                \n",
    "else:\n",
    "    print(num,'not a prime number')\n",
    "\n",
    "                \n"
   ]
  },
  {
   "cell_type": "code",
   "execution_count": 4,
   "id": "cc115ba3",
   "metadata": {},
   "outputs": [
    {
     "name": "stdout",
     "output_type": "stream",
     "text": [
      "Enter any Number  :6\n",
      "6  *  1  =  6\n",
      "6  *  2  =  12\n",
      "6  *  3  =  18\n",
      "6  *  4  =  24\n",
      "6  *  5  =  30\n",
      "6  *  6  =  36\n",
      "6  *  7  =  42\n",
      "6  *  8  =  48\n",
      "6  *  9  =  54\n",
      "6  *  10  =  60\n"
     ]
    }
   ],
   "source": [
    "# 15. Write a program that prints the multiplication table of a given number.\n",
    "\n",
    "n = int(input(\"Enter any Number  :\"))\n",
    "\n",
    "i = 1\n",
    "\n",
    "for i in range(1,11):\n",
    "    \n",
    " value = n * i\n",
    " print(n,\" * \",i,\" = \",value)\n",
    " \n",
    "\n",
    "\n"
   ]
  },
  {
   "cell_type": "code",
   "execution_count": 7,
   "id": "b22d033b",
   "metadata": {},
   "outputs": [
    {
     "name": "stdout",
     "output_type": "stream",
     "text": [
      "Enter a number: 6\n",
      "0\n",
      "2\n",
      "4\n",
      "6\n",
      "Sum of all the even numbers is 12\n"
     ]
    }
   ],
   "source": [
    "# 16. Write a program that finds the sum of all even numbers between 1 and `n`.\n",
    "\n",
    "num = int(input('Enter a number: '))\n",
    "\n",
    "sum = 0\n",
    "i = 0\n",
    "\n",
    "while i <= num:\n",
    "    if i % 2 == 0:\n",
    "        print(i)\n",
    "        sum+=i\n",
    "    i+=1\n",
    "    \n",
    "print(f\"Sum of all the even numbers is {sum}\")"
   ]
  },
  {
   "cell_type": "code",
   "execution_count": 13,
   "id": "4c3f29c8",
   "metadata": {},
   "outputs": [
    {
     "name": "stdout",
     "output_type": "stream",
     "text": [
      "Enter a number:67\n",
      "The reverse number is : 76\n"
     ]
    }
   ],
   "source": [
    "# 17. Write a program that reverses a given number.\n",
    "\n",
    "num = int(input(\"Enter a number:\"))\n",
    "\n",
    "rev = 0\n",
    "\n",
    "while(num>0):\n",
    "    dig=num%10\n",
    "    rev=rev*10+dig\n",
    "    num=num//10\n",
    "\n",
    "    \n",
    "print(\"The reverse number is :\",rev)    "
   ]
  },
  {
   "cell_type": "code",
   "execution_count": 8,
   "id": "d98e38b4",
   "metadata": {},
   "outputs": [
    {
     "name": "stdout",
     "output_type": "stream",
     "text": [
      "Enter a number:121\n",
      "The number is palindrome!\n"
     ]
    }
   ],
   "source": [
    "# 18. Write a program that checks if a given string, is a palindrome.\n",
    "\n",
    "num = int(input(\"Enter a number:\"))\n",
    "\n",
    "temp=num\n",
    "rev=0\n",
    "\n",
    "while(num>0):\n",
    "    dig=num%10\n",
    "    rev=rev*10+dig\n",
    "    num=num//10\n",
    "    \n",
    "if(temp==rev):\n",
    "    print(\"The number is palindrome!\")\n",
    "else:\n",
    "    print(\"The number is not palindrome!\")"
   ]
  },
  {
   "cell_type": "code",
   "execution_count": 14,
   "id": "494a6204",
   "metadata": {},
   "outputs": [
    {
     "name": "stdout",
     "output_type": "stream",
     "text": [
      "Enter any number: 5\n",
      "Too low\n",
      "Enter number again: 7\n",
      "you guessed it right!!\n"
     ]
    }
   ],
   "source": [
    "# 19. Write a program that generates a random number and allows the user to guess it.\n",
    "\n",
    "import random\n",
    "n = random.randrange(1,10)\n",
    "\n",
    "guess = int(input(\"Enter any number: \"))\n",
    "\n",
    "while n!= guess:\n",
    "    if guess < n:\n",
    "        print(\"Too low\")\n",
    "        guess = int(input(\"Enter number again: \"))\n",
    "    elif guess > n:\n",
    "        print(\"Too high!\")\n",
    "        guess = int(input(\"Enter number again: \"))\n",
    "    else:\n",
    "        break\n",
    "print(\"you guessed it right!\")"
   ]
  },
  {
   "cell_type": "code",
   "execution_count": 17,
   "id": "bcff7ee5",
   "metadata": {},
   "outputs": [
    {
     "name": "stdout",
     "output_type": "stream",
     "text": [
      "Enter 1st number:20\n",
      "Enter 2nd number:25\n",
      "GCD of 20 and 25 is: 5\n"
     ]
    }
   ],
   "source": [
    "# 20. Write a program that finds the greatest common divisor (GCD) of two numbers.\n",
    "\n",
    "p = x = int(input('Enter 1st number: '))\n",
    "q = y = int(input('Enter 2nd number: '))\n",
    "\n",
    "while x != y:\n",
    "    if x > y:\n",
    "        x = x - y\n",
    "    else:\n",
    "        y = y - x\n",
    "\n",
    "print(\"GCD of\", p, \"and\", q, \"is:\", x)"
   ]
  },
  {
   "cell_type": "code",
   "execution_count": null,
   "id": "782ae0db",
   "metadata": {},
   "outputs": [],
   "source": []
  }
 ],
 "metadata": {
  "kernelspec": {
   "display_name": "Python 3 (ipykernel)",
   "language": "python",
   "name": "python3"
  },
  "language_info": {
   "codemirror_mode": {
    "name": "ipython",
    "version": 3
   },
   "file_extension": ".py",
   "mimetype": "text/x-python",
   "name": "python",
   "nbconvert_exporter": "python",
   "pygments_lexer": "ipython3",
   "version": "3.11.5"
  }
 },
 "nbformat": 4,
 "nbformat_minor": 5
}
